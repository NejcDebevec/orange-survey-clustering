{
 "cells": [
  {
   "cell_type": "code",
   "execution_count": 1,
   "metadata": {},
   "outputs": [],
   "source": [
    "import pandas as pd\n",
    "import numpy as np\n",
    "from sklearn.cluster import DBSCAN\n",
    "from sklearn.cluster import KMeans\n",
    "from sklearn.metrics import silhouette_samples, silhouette_score\n",
    "from sklearn import metrics\n"
   ]
  },
  {
   "cell_type": "code",
   "execution_count": 4,
   "metadata": {},
   "outputs": [
    {
     "name": "stdout",
     "output_type": "stream",
     "text": [
      "   Excel  IBM SPSS Statistics  KNIME  MATLAB  Python  Python Pandas  R  \\\n",
      "0      0                    1      1       1       0              0  1   \n",
      "1      1                    1      1       1       1              1  0   \n",
      "2      0                    1      1       1       1              1  1   \n",
      "3      1                    1      1       1       1              1  1   \n",
      "4      0                    1      1       1       0              1  0   \n",
      "\n",
      "   Rapid Miner  SQL  Weka ...   Research  Beginner  Expert  Intermediate  \\\n",
      "0            1    1     1 ...          0         0       1             0   \n",
      "1            1    1     1 ...          1         1       0             0   \n",
      "2            1    1     1 ...          0         1       0             0   \n",
      "3            1    1     1 ...          0         1       0             0   \n",
      "4            1    0     1 ...          0         0       0             1   \n",
      "\n",
      "   Anaconda  College  Conference  Friends  School  Web  \n",
      "0         1        0           0        0       0    0  \n",
      "1         1        0           0        0       0    0  \n",
      "2         0        0           0        0       0    1  \n",
      "3         0        0           0        0       0    0  \n",
      "4         0        0           0        0       0    0  \n",
      "\n",
      "[5 rows x 25 columns]\n"
     ]
    }
   ],
   "source": [
    "data = pd.read_csv(\"../data/test_data.csv\")\n",
    "data = data.drop(\"Unnamed: 0\", axis=1)\n",
    "print(data.head())\n"
   ]
  },
  {
   "cell_type": "code",
   "execution_count": 16,
   "metadata": {},
   "outputs": [
    {
     "name": "stdout",
     "output_type": "stream",
     "text": [
      "Estimated number of clusters: 5\n",
      "Estimated number of noise points: 1389\n",
      "Silhouette Coefficient: 0.081\n"
     ]
    }
   ],
   "source": [
    "db = DBSCAN(eps=1.3, min_samples=5).fit(data)\n",
    "labels = db.labels_\n",
    "core_samples_mask = np.zeros_like(db.labels_, dtype=bool)\n",
    "core_samples_mask[db.core_sample_indices_] = True\n",
    "n_clusters_ = len(set(labels)) - (1 if -1 in labels else 0)\n",
    "n_noise_ = list(labels).count(-1)\n",
    "\n",
    "print('Estimated number of clusters: %d' % n_clusters_)\n",
    "print('Estimated number of noise points: %d' % n_noise_)\n",
    "\n",
    "print(\"Silhouette Coefficient: %0.3f\"\n",
    "      % metrics.silhouette_score(data, labels))"
   ]
  },
  {
   "cell_type": "code",
   "execution_count": null,
   "metadata": {},
   "outputs": [],
   "source": []
  },
  {
   "cell_type": "code",
   "execution_count": null,
   "metadata": {},
   "outputs": [],
   "source": []
  }
 ],
 "metadata": {
  "kernelspec": {
   "display_name": "Python 3",
   "language": "python",
   "name": "python3"
  },
  "language_info": {
   "codemirror_mode": {
    "name": "ipython",
    "version": 3
   },
   "file_extension": ".py",
   "mimetype": "text/x-python",
   "name": "python",
   "nbconvert_exporter": "python",
   "pygments_lexer": "ipython3",
   "version": "3.6.5"
  }
 },
 "nbformat": 4,
 "nbformat_minor": 2
}
